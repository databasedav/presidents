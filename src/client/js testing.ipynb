{
 "cells": [
  {
   "cell_type": "markdown",
   "metadata": {},
   "source": [
    "Want to test two different card access implementations:\n",
    "* map only; where the key is the card and the value is whether or not the card is selected\n",
    "* 2 arrays; 1 for the cards the player has available and another with booleans for all 52 cards\n",
    "\n",
    "The relevant operations are the following:\n",
    "* adding cards\n",
    "* selecting/deselecting cards\n",
    "* removing cards"
   ]
  },
  {
   "cell_type": "code",
   "execution_count": null,
   "metadata": {},
   "outputs": [],
   "source": [
    "// map only"
   ]
  },
  {
   "cell_type": "code",
   "execution_count": 9,
   "metadata": {},
   "outputs": [
    {
     "data": {
      "text/plain": [
       "{ '1': false,\n",
       "  '2': false,\n",
       "  '3': false,\n",
       "  '4': false,\n",
       "  '5': false,\n",
       "  '6': false,\n",
       "  '7': false,\n",
       "  '8': false,\n",
       "  '9': false,\n",
       "  '10': false,\n",
       "  '11': false,\n",
       "  '12': false,\n",
       "  '13': false }"
      ]
     },
     "execution_count": 9,
     "metadata": {},
     "output_type": "execute_result"
    }
   ],
   "source": [
    "cards = new Map()"
   ]
  },
  {
   "cell_type": "code",
   "execution_count": 12,
   "metadata": {},
   "outputs": [
    {
     "ename": "SyntaxError",
     "evalue": "Unexpected token %",
     "output_type": "error",
     "traceback": [
      "evalmachine.<anonymous>:1",
      "%%timeit",
      "^",
      "",
      "SyntaxError: Unexpected token %",
      "    at new Script (vm.js:79:7)",
      "    at createScript (vm.js:251:10)",
      "    at Object.runInThisContext (vm.js:303:10)",
      "    at run ([eval]:1002:15)",
      "    at onRunRequest ([eval]:829:18)",
      "    at onMessage ([eval]:789:13)",
      "    at process.emit (events.js:182:13)",
      "    at emit (internal/child_process.js:812:12)",
      "    at process._tickCallback (internal/process/next_tick.js:63:19)"
     ]
    }
   ],
   "source": [
    "%%timeit\n",
    "cards.set(1, false)"
   ]
  },
  {
   "cell_type": "code",
   "execution_count": null,
   "metadata": {},
   "outputs": [],
   "source": []
  }
 ],
 "metadata": {
  "kernelspec": {
   "display_name": "Javascript (Node.js)",
   "language": "javascript",
   "name": "javascript"
  },
  "language_info": {
   "file_extension": ".js",
   "mimetype": "application/javascript",
   "name": "javascript",
   "version": "10.13.0"
  }
 },
 "nbformat": 4,
 "nbformat_minor": 2
}
