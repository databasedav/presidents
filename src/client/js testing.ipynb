{
 "cells": [
  {
   "cell_type": "code",
   "execution_count": 1,
   "metadata": {},
   "outputs": [
    {
     "data": {
      "text/plain": [
       "Map {}"
      ]
     },
     "execution_count": 1,
     "metadata": {},
     "output_type": "execute_result"
    }
   ],
   "source": [
    "stored_hands = new Map()"
   ]
  },
  {
   "cell_type": "code",
   "execution_count": 9,
   "metadata": {},
   "outputs": [
    {
     "data": {
      "text/plain": [
       "[ 5, 6, 7, 8 ]"
      ]
     },
     "execution_count": 9,
     "metadata": {},
     "output_type": "execute_result"
    }
   ],
   "source": [
    "payload_id1 = 1234\n",
    "payload_cards1 = [1,2,3,4]\n",
    "\n",
    "payload_id2 = 5678\n",
    "payload_cards2 = [5,6,7,8]"
   ]
  },
  {
   "cell_type": "code",
   "execution_count": 34,
   "metadata": {},
   "outputs": [
    {
     "data": {
      "text/plain": [
       "Map {\n",
       "  1234 => { cards: [ 1, 2, 3, 4 ], is_selected: false },\n",
       "  5678 => { cards: [ 5, 6, 7, 8 ], is_selected: false } }"
      ]
     },
     "execution_count": 34,
     "metadata": {},
     "output_type": "execute_result"
    }
   ],
   "source": [
    "stored_hands.set(payload_id1, {\n",
    "    'cards': payload_cards1,\n",
    "    'is_selected': false\n",
    "})\n",
    "\n",
    "stored_hands.set(payload_id2, {\n",
    "    'cards': payload_cards2,\n",
    "    'is_selected': false\n",
    "})"
   ]
  },
  {
   "cell_type": "code",
   "execution_count": 36,
   "metadata": {},
   "outputs": [
    {
     "data": {
      "text/plain": [
       "[ { cards: [ 1, 2, 3, 4 ], is_selected: false },\n",
       "  { cards: [ 5, 6, 7, 8 ], is_selected: false } ]"
      ]
     },
     "execution_count": 36,
     "metadata": {},
     "output_type": "execute_result"
    }
   ],
   "source": [
    "Array.from(stored_hands.values())"
   ]
  },
  {
   "cell_type": "code",
   "execution_count": 37,
   "metadata": {},
   "outputs": [
    {
     "data": {
      "text/plain": [
       "Map {}"
      ]
     },
     "execution_count": 37,
     "metadata": {},
     "output_type": "execute_result"
    }
   ],
   "source": [
    "cards = new Map()"
   ]
  },
  {
   "cell_type": "code",
   "execution_count": 38,
   "metadata": {},
   "outputs": [
    {
     "data": {
      "text/plain": [
       "Map { 1 => false, 2 => false, 3 => false, 4 => false, 5 => false }"
      ]
     },
     "execution_count": 38,
     "metadata": {},
     "output_type": "execute_result"
    }
   ],
   "source": [
    "cards.set(1, false)\n",
    "cards.set(2, false)\n",
    "cards.set(3, false)\n",
    "cards.set(4, false)\n",
    "cards.set(5, false)"
   ]
  },
  {
   "cell_type": "code",
   "execution_count": 42,
   "metadata": {},
   "outputs": [
    {
     "data": {
      "text/plain": [
       "{ '1': false, '2': false, '3': false, '4': false, '5': false }"
      ]
     },
     "execution_count": 42,
     "metadata": {},
     "output_type": "execute_result"
    }
   ],
   "source": [
    "Object.assign({}, ...[...cards.entries()].map(([k, v]) => ({[k]: v})))"
   ]
  },
  {
   "cell_type": "code",
   "execution_count": 44,
   "metadata": {},
   "outputs": [
    {
     "data": {
      "text/plain": [
       "[ { '1': false },\n",
       "  { '2': false },\n",
       "  { '3': false },\n",
       "  { '4': false },\n",
       "  { '5': false } ]"
      ]
     },
     "execution_count": 44,
     "metadata": {},
     "output_type": "execute_result"
    }
   ],
   "source": [
    "[...cards.entries()].map(([k, v]) => ({[k]: v}))"
   ]
  },
  {
   "cell_type": "code",
   "execution_count": null,
   "metadata": {},
   "outputs": [],
   "source": []
  }
 ],
 "metadata": {
  "kernelspec": {
   "display_name": "Javascript (Node.js)",
   "language": "javascript",
   "name": "javascript"
  },
  "language_info": {
   "file_extension": ".js",
   "mimetype": "application/javascript",
   "name": "javascript",
   "version": "8.10.0"
  }
 },
 "nbformat": 4,
 "nbformat_minor": 2
}
