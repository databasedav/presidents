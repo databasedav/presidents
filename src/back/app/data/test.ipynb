{
 "cells": [
  {
   "cell_type": "code",
   "execution_count": 1,
   "metadata": {},
   "outputs": [],
   "source": [
    "# from confluent_kafka import Producer\n",
    "from cassandra.cluster import Cluster\n",
    "from cassandra import query\n",
    "from cassandra.policies import DCAwareRoundRobinPolicy\n",
    "from cassandra.cqlengine import connection\n",
    "from cassandra.cqlengine import management\n",
    "from cassandra.cqlengine import columns\n",
    "from cassandra.cqlengine.models import Model\n",
    "import pandas as pd\n",
    "import datetime\n",
    "import numpy as np\n",
    "# import faust\n",
    "import os\n",
    "import uuid\n",
    "import pandas as pd"
   ]
  },
  {
   "cell_type": "code",
   "execution_count": 141,
   "metadata": {},
   "outputs": [],
   "source": [
    "CASSANDRA_KEYSPACE = 'presidents'\n",
    "CASSANDRA_CLUSTER_NAME = 'cluster1'\n",
    "\n",
    "cluster = Cluster()\n",
    "session = cluster.connect()\n",
    "connection.register_connection(CASSANDRA_CLUSTER_NAME, session=session, default=True)\n",
    "\n",
    "os.environ['CQLENG_ALLOW_SCHEMA_MANAGEMENT'] = '1'\n",
    "\n",
    "management.drop_keyspace(CASSANDRA_KEYSPACE)\n",
    "management.create_keyspace_simple(name=CASSANDRA_KEYSPACE, replication_factor=3)\n",
    "\n",
    "columns.DateTime.truncate_microseconds = False\n",
    "\n",
    "\n",
    "class GameClicks(Model):\n",
    "    __table_name__ = 'game_clicks'\n",
    "    __keyspace__ = CASSANDRA_KEYSPACE\n",
    "    game_id = columns.UUID(primary_key=True, partition_key=True, required=True)\n",
    "    user_id = columns.UUID(primary_key=True, partition_key=True, required=True)\n",
    "    action = columns.Text(primary_key=True, required=True, clustering_order='ASC')\n",
    "    timestamps = columns.List(columns.DateTime, required=True)\n",
    "\n",
    "\n",
    "management.drop_table\n",
    "management.sync_table(GameClicks)"
   ]
  },
  {
   "cell_type": "code",
   "execution_count": 142,
   "metadata": {},
   "outputs": [],
   "source": [
    "game_id1, game_id2 = uuid.uuid4(), uuid.uuid4()\n",
    "user_id1, user_id2 = uuid.uuid4(), uuid.uuid4()"
   ]
  },
  {
   "cell_type": "code",
   "execution_count": 143,
   "metadata": {},
   "outputs": [],
   "source": [
    "GameClicks.objects(\n",
    "    game_id=game_id2,\n",
    "    user_id=user_id1,\n",
    "    action='play'\n",
    ").update(\n",
    "    timestamps__append=[datetime.datetime.utcnow()]\n",
    ")"
   ]
  },
  {
   "cell_type": "code",
   "execution_count": 144,
   "metadata": {},
   "outputs": [],
   "source": [
    "def game_clicks_to_pandas(raw_rows, query):\n",
    "    row_labels, row_timestamps = (list() for _ in range(2))\n",
    "    for raw_row in raw_rows:\n",
    "        row_vals = list(raw_row.values())\n",
    "        labels, timestamps = row_vals[:3], row_vals[3]\n",
    "        for timestamp in timestamps:\n",
    "            row_labels.append(labels)\n",
    "            row_timestamps.append(timestamp)\n",
    "    index = pd.MultiIndex.from_tuples(\n",
    "        row_labels,\n",
    "        names=list(raw_row)[:3]\n",
    "    )\n",
    "    return pd.DataFrame(\n",
    "        row_timestamps,\n",
    "        index=index,\n",
    "        columns=['timestamp']\n",
    "    )"
   ]
  },
  {
   "cell_type": "code",
   "execution_count": 145,
   "metadata": {},
   "outputs": [
    {
     "data": {
      "text/html": [
       "<div>\n",
       "<style scoped>\n",
       "    .dataframe tbody tr th:only-of-type {\n",
       "        vertical-align: middle;\n",
       "    }\n",
       "\n",
       "    .dataframe tbody tr th {\n",
       "        vertical-align: top;\n",
       "    }\n",
       "\n",
       "    .dataframe thead th {\n",
       "        text-align: right;\n",
       "    }\n",
       "</style>\n",
       "<table border=\"1\" class=\"dataframe\">\n",
       "  <thead>\n",
       "    <tr style=\"text-align: right;\">\n",
       "      <th></th>\n",
       "      <th></th>\n",
       "      <th></th>\n",
       "      <th>timestamp</th>\n",
       "    </tr>\n",
       "    <tr>\n",
       "      <th>game_id</th>\n",
       "      <th>user_id</th>\n",
       "      <th>action</th>\n",
       "      <th></th>\n",
       "    </tr>\n",
       "  </thead>\n",
       "  <tbody>\n",
       "    <tr>\n",
       "      <th>ac99690d-10be-4c0e-8f2c-da6a21a226a0</th>\n",
       "      <th>209a8c20-9e63-420f-9014-ac991dbc70f2</th>\n",
       "      <th>play</th>\n",
       "      <td>2019-06-01 06:30:10.559</td>\n",
       "    </tr>\n",
       "  </tbody>\n",
       "</table>\n",
       "</div>"
      ],
      "text/plain": [
       "                                                                                               timestamp\n",
       "game_id                              user_id                              action                        \n",
       "ac99690d-10be-4c0e-8f2c-da6a21a226a0 209a8c20-9e63-420f-9014-ac991dbc70f2 play   2019-06-01 06:30:10.559"
      ]
     },
     "execution_count": 145,
     "metadata": {},
     "output_type": "execute_result"
    }
   ],
   "source": [
    "query = '''\n",
    "    select *\n",
    "    from presidents.game_clicks\n",
    "'''\n",
    "game_clicks_to_pandas(session.execute(query), query)"
   ]
  },
  {
   "cell_type": "code",
   "execution_count": 80,
   "metadata": {},
   "outputs": [
    {
     "data": {
      "text/plain": [
       "[[UUID('30514fdf-80ab-4d2f-8cae-b4d45da21c3e'),\n",
       "  UUID('e6a0eff9-599c-44c3-a759-24eeac984436'),\n",
       "  'pass'],\n",
       " [UUID('30514fdf-80ab-4d2f-8cae-b4d45da21c3e'),\n",
       "  UUID('e6a0eff9-599c-44c3-a759-24eeac984436'),\n",
       "  'play'],\n",
       " [UUID('41b3fa6e-b7ef-48f2-bfa9-9e7ca0e38fd1'),\n",
       "  UUID('e6a0eff9-599c-44c3-a759-24eeac984436'),\n",
       "  'pass'],\n",
       " [UUID('41b3fa6e-b7ef-48f2-bfa9-9e7ca0e38fd1'),\n",
       "  UUID('e6a0eff9-599c-44c3-a759-24eeac984436'),\n",
       "  'pass']]"
      ]
     },
     "execution_count": 80,
     "metadata": {},
     "output_type": "execute_result"
    }
   ],
   "source": [
    "row_labels"
   ]
  },
  {
   "cell_type": "code",
   "execution_count": 81,
   "metadata": {},
   "outputs": [
    {
     "data": {
      "text/plain": [
       "[datetime.datetime(2019, 6, 1, 5, 14, 9, 63000),\n",
       " datetime.datetime(2019, 6, 1, 5, 11, 37, 567000),\n",
       " datetime.datetime(2019, 6, 1, 5, 14, 11, 810000),\n",
       " datetime.datetime(2019, 6, 1, 5, 21, 14, 68000)]"
      ]
     },
     "execution_count": 81,
     "metadata": {},
     "output_type": "execute_result"
    }
   ],
   "source": [
    "row_timestamps"
   ]
  },
  {
   "cell_type": "code",
   "execution_count": 64,
   "metadata": {},
   "outputs": [],
   "source": [
    "game_ids, user_ids, actions = (list() for _ in range(3))"
   ]
  },
  {
   "cell_type": "code",
   "execution_count": 82,
   "metadata": {},
   "outputs": [
    {
     "data": {
      "text/html": [
       "<div>\n",
       "<style scoped>\n",
       "    .dataframe tbody tr th:only-of-type {\n",
       "        vertical-align: middle;\n",
       "    }\n",
       "\n",
       "    .dataframe tbody tr th {\n",
       "        vertical-align: top;\n",
       "    }\n",
       "\n",
       "    .dataframe thead th {\n",
       "        text-align: right;\n",
       "    }\n",
       "</style>\n",
       "<table border=\"1\" class=\"dataframe\">\n",
       "  <thead>\n",
       "    <tr style=\"text-align: right;\">\n",
       "      <th></th>\n",
       "      <th></th>\n",
       "      <th></th>\n",
       "      <th>0</th>\n",
       "    </tr>\n",
       "  </thead>\n",
       "  <tbody>\n",
       "    <tr>\n",
       "      <th rowspan=\"2\" valign=\"top\">30514fdf-80ab-4d2f-8cae-b4d45da21c3e</th>\n",
       "      <th rowspan=\"2\" valign=\"top\">e6a0eff9-599c-44c3-a759-24eeac984436</th>\n",
       "      <th>pass</th>\n",
       "      <td>2019-06-01 05:14:09.063</td>\n",
       "    </tr>\n",
       "    <tr>\n",
       "      <th>play</th>\n",
       "      <td>2019-06-01 05:11:37.567</td>\n",
       "    </tr>\n",
       "    <tr>\n",
       "      <th rowspan=\"2\" valign=\"top\">41b3fa6e-b7ef-48f2-bfa9-9e7ca0e38fd1</th>\n",
       "      <th rowspan=\"2\" valign=\"top\">e6a0eff9-599c-44c3-a759-24eeac984436</th>\n",
       "      <th>pass</th>\n",
       "      <td>2019-06-01 05:14:11.810</td>\n",
       "    </tr>\n",
       "    <tr>\n",
       "      <th>pass</th>\n",
       "      <td>2019-06-01 05:21:14.068</td>\n",
       "    </tr>\n",
       "  </tbody>\n",
       "</table>\n",
       "</div>"
      ],
      "text/plain": [
       "                                                                                                     0\n",
       "30514fdf-80ab-4d2f-8cae-b4d45da21c3e e6a0eff9-599c-44c3-a759-24eeac984436 pass 2019-06-01 05:14:09.063\n",
       "                                                                          play 2019-06-01 05:11:37.567\n",
       "41b3fa6e-b7ef-48f2-bfa9-9e7ca0e38fd1 e6a0eff9-599c-44c3-a759-24eeac984436 pass 2019-06-01 05:14:11.810\n",
       "                                                                          pass 2019-06-01 05:21:14.068"
      ]
     },
     "execution_count": 82,
     "metadata": {},
     "output_type": "execute_result"
    }
   ],
   "source": [
    "pd.DataFrame(row_timestamps, index=pd.MultiIndex.from_tuples(row_labels))"
   ]
  },
  {
   "cell_type": "code",
   "execution_count": null,
   "metadata": {},
   "outputs": [],
   "source": []
  },
  {
   "cell_type": "code",
   "execution_count": null,
   "metadata": {},
   "outputs": [],
   "source": []
  },
  {
   "cell_type": "code",
   "execution_count": null,
   "metadata": {},
   "outputs": [],
   "source": []
  },
  {
   "cell_type": "code",
   "execution_count": null,
   "metadata": {},
   "outputs": [],
   "source": []
  },
  {
   "cell_type": "code",
   "execution_count": null,
   "metadata": {},
   "outputs": [],
   "source": []
  },
  {
   "cell_type": "code",
   "execution_count": null,
   "metadata": {},
   "outputs": [],
   "source": []
  },
  {
   "cell_type": "code",
   "execution_count": null,
   "metadata": {},
   "outputs": [],
   "source": []
  },
  {
   "cell_type": "code",
   "execution_count": null,
   "metadata": {},
   "outputs": [],
   "source": []
  },
  {
   "cell_type": "code",
   "execution_count": null,
   "metadata": {},
   "outputs": [],
   "source": []
  },
  {
   "cell_type": "code",
   "execution_count": 23,
   "metadata": {},
   "outputs": [],
   "source": [
    "producer = Producer({'bootstrap.servers': 'localhost:9092'})"
   ]
  },
  {
   "cell_type": "code",
   "execution_count": 254,
   "metadata": {},
   "outputs": [],
   "source": [
    "data = {\n",
    "    'game_id': '1',\n",
    "    'username': 'avi',\n",
    "    'action': 'play',\n",
    "    'timestamp': timestamp()\n",
    "}\n",
    "\n",
    "producer.produce('click',\n",
    "                 json.dumps(data)\n",
    ")"
   ]
  },
  {
   "cell_type": "code",
   "execution_count": 276,
   "metadata": {},
   "outputs": [],
   "source": [
    "CASSANDRA_CONTACT_POINTS = ['172.17.0.2']\n",
    "CASSANDRA_KEYSPACE = 'presidents'\n",
    "CASSANDRA_CLUSTER_NAME = 'cluster1'"
   ]
  },
  {
   "cell_type": "code",
   "execution_count": 278,
   "metadata": {},
   "outputs": [],
   "source": [
    "cluster = Cluster(CASSANDRA_CONTACT_POINTS)\n",
    "session = cluster.connect()\n",
    "connection.register_connection(CASSANDRA_CLUSTER_NAME, session=session, default=True);"
   ]
  },
  {
   "cell_type": "code",
   "execution_count": 281,
   "metadata": {},
   "outputs": [],
   "source": [
    "os.environ['CQLENG_ALLOW_SCHEMA_MANAGEMENT'] = '1'\n",
    "\n",
    "management.drop_keyspace(CASSANDRA_KEYSPACE)\n",
    "management.create_keyspace_simple(name=CASSANDRA_KEYSPACE, replication_factor=3)"
   ]
  },
  {
   "cell_type": "code",
   "execution_count": 298,
   "metadata": {},
   "outputs": [],
   "source": [
    "DateTime.truncate_microseconds = False\n",
    "\n",
    "class GameClick(Model):\n",
    "    __table_name__ = 'game_click'\n",
    "    __keyspace__ = 'presidents'\n",
    "    game_id = columns.Text(primary_key=True, partition_key=True, required=True)\n",
    "    username = columns.Text(primary_key=True, partition_key=True, required=True)\n",
    "    action = columns.Text(primary_key=True, required=True, clustering_order='ASC')\n",
    "    timestamps = columns.List(columns.DateTime, required=True)\n",
    "\n",
    "management.drop_table\n",
    "management.sync_table(GameClick)"
   ]
  },
  {
   "cell_type": "code",
   "execution_count": 299,
   "metadata": {},
   "outputs": [],
   "source": [
    "session.row_factory = query.tuple_factory\n",
    "rows = session.execute(\n",
    "    '''\n",
    "    select *\n",
    "    from system_schema.columns\n",
    "    where keyspace_name = 'presidents'\n",
    "        and table_name = 'game_click'\n",
    "    '''\n",
    ")"
   ]
  },
  {
   "cell_type": "code",
   "execution_count": 300,
   "metadata": {},
   "outputs": [
    {
     "name": "stdout",
     "output_type": "stream",
     "text": [
      "('presidents', 'game_click', 'action', 'ASC', b'action', 'clustering', 0, 'text')\n",
      "('presidents', 'game_click', 'game_id', 'NONE', b'game_id', 'partition_key', 0, 'text')\n",
      "('presidents', 'game_click', 'timestamps', 'NONE', b'timestamps', 'regular', -1, 'list<timestamp>')\n",
      "('presidents', 'game_click', 'username', 'NONE', b'username', 'partition_key', 1, 'text')\n"
     ]
    }
   ],
   "source": [
    "for row in rows:\n",
    "    print(row)"
   ]
  },
  {
   "cell_type": "code",
   "execution_count": null,
   "metadata": {},
   "outputs": [],
   "source": []
  },
  {
   "cell_type": "code",
   "execution_count": 35,
   "metadata": {},
   "outputs": [],
   "source": [
    "from db_conn import session\n",
    "from click_app import app, GameClick\n",
    "import datetime\n",
    "import numpy as np\n",
    "import pandas as pd"
   ]
  },
  {
   "cell_type": "code",
   "execution_count": 36,
   "metadata": {},
   "outputs": [],
   "source": [
    "def pandas_factory(colnames, rows):\n",
    "    rows = np.array([list(row) for row in rows], dtype=object)\n",
    "    return pd.DataFrame(np.append(rows[:, :2], np.array(list(map(dict, rows[:, 2]))).reshape(len(rows), 1), 1), columns=colnames)"
   ]
  },
  {
   "cell_type": "code",
   "execution_count": 37,
   "metadata": {},
   "outputs": [],
   "source": [
    "session.row_factory = pandas_factory # query.tuple_factory\n",
    "session.default_fetch_size = None"
   ]
  },
  {
   "cell_type": "code",
   "execution_count": 39,
   "metadata": {},
   "outputs": [
    {
     "data": {
      "text/plain": [
       "<Future pending cb=[Topic._on_published(message=<FutureMessage pending>, state={}, producer=<Producer: running >)()]>"
      ]
     },
     "execution_count": 39,
     "metadata": {},
     "output_type": "execute_result"
    }
   ],
   "source": [
    "await app.send('click',\n",
    "               value=GameClick(\n",
    "                   game_id='1',\n",
    "                   username='avi',\n",
    "                   timestamp=datetime.datetime.utcnow(),\n",
    "                   action='play'\n",
    "               )\n",
    "              )"
   ]
  },
  {
   "cell_type": "code",
   "execution_count": 11,
   "metadata": {},
   "outputs": [
    {
     "name": "stderr",
     "output_type": "stream",
     "text": [
      "ERROR:cassandra.cluster:Unexpected exception while handling result in ResponseFuture:\n",
      "Traceback (most recent call last):\n",
      "  File \"cassandra/cluster.py\", line 3860, in cassandra.cluster.ResponseFuture._set_result\n",
      "  File \"<ipython-input-2-0708f6120f81>\", line 3, in pandas_factory\n",
      "    return pd.DataFrame(np.append(rows[:, :2], np.array(list(map(dict, rows[:, 2]))).reshape(len(rows), 1), 1), columns=colnames)\n",
      "IndexError: too many indices for array\n"
     ]
    },
    {
     "ename": "IndexError",
     "evalue": "too many indices for array",
     "output_type": "error",
     "traceback": [
      "\u001b[0;31m---------------------------------------------------------------------------\u001b[0m",
      "\u001b[0;31mIndexError\u001b[0m                                Traceback (most recent call last)",
      "\u001b[0;32m<ipython-input-11-ed219ea7d65f>\u001b[0m in \u001b[0;36m<module>\u001b[0;34m\u001b[0m\n\u001b[1;32m      3\u001b[0m     \u001b[0mselect\u001b[0m \u001b[0;34m*\u001b[0m\u001b[0;34m\u001b[0m\u001b[0;34m\u001b[0m\u001b[0m\n\u001b[1;32m      4\u001b[0m     \u001b[0;32mfrom\u001b[0m \u001b[0mpresidents\u001b[0m\u001b[0;34m.\u001b[0m\u001b[0mgame_clicks\u001b[0m\u001b[0;34m\u001b[0m\u001b[0;34m\u001b[0m\u001b[0m\n\u001b[0;32m----> 5\u001b[0;31m     '''\n\u001b[0m\u001b[1;32m      6\u001b[0m )._current_rows\n",
      "\u001b[0;32m~/anaconda3/lib/python3.7/site-packages/cassandra/cluster.cpython-37m-x86_64-linux-gnu.so\u001b[0m in \u001b[0;36mcassandra.cluster.Session.execute\u001b[0;34m()\u001b[0m\n",
      "\u001b[0;32m~/anaconda3/lib/python3.7/site-packages/cassandra/cluster.cpython-37m-x86_64-linux-gnu.so\u001b[0m in \u001b[0;36mcassandra.cluster.ResponseFuture.result\u001b[0;34m()\u001b[0m\n",
      "\u001b[0;32m~/anaconda3/lib/python3.7/site-packages/cassandra/cluster.cpython-37m-x86_64-linux-gnu.so\u001b[0m in \u001b[0;36mcassandra.cluster.ResponseFuture._set_result\u001b[0;34m()\u001b[0m\n",
      "\u001b[0;32m<ipython-input-2-0708f6120f81>\u001b[0m in \u001b[0;36mpandas_factory\u001b[0;34m(colnames, rows)\u001b[0m\n\u001b[1;32m      1\u001b[0m \u001b[0;32mdef\u001b[0m \u001b[0mpandas_factory\u001b[0m\u001b[0;34m(\u001b[0m\u001b[0mcolnames\u001b[0m\u001b[0;34m,\u001b[0m \u001b[0mrows\u001b[0m\u001b[0;34m)\u001b[0m\u001b[0;34m:\u001b[0m\u001b[0;34m\u001b[0m\u001b[0;34m\u001b[0m\u001b[0m\n\u001b[1;32m      2\u001b[0m     \u001b[0mrows\u001b[0m \u001b[0;34m=\u001b[0m \u001b[0mnp\u001b[0m\u001b[0;34m.\u001b[0m\u001b[0marray\u001b[0m\u001b[0;34m(\u001b[0m\u001b[0;34m[\u001b[0m\u001b[0mlist\u001b[0m\u001b[0;34m(\u001b[0m\u001b[0mrow\u001b[0m\u001b[0;34m)\u001b[0m \u001b[0;32mfor\u001b[0m \u001b[0mrow\u001b[0m \u001b[0;32min\u001b[0m \u001b[0mrows\u001b[0m\u001b[0;34m]\u001b[0m\u001b[0;34m,\u001b[0m \u001b[0mdtype\u001b[0m\u001b[0;34m=\u001b[0m\u001b[0mobject\u001b[0m\u001b[0;34m)\u001b[0m\u001b[0;34m\u001b[0m\u001b[0;34m\u001b[0m\u001b[0m\n\u001b[0;32m----> 3\u001b[0;31m     \u001b[0;32mreturn\u001b[0m \u001b[0mpd\u001b[0m\u001b[0;34m.\u001b[0m\u001b[0mDataFrame\u001b[0m\u001b[0;34m(\u001b[0m\u001b[0mnp\u001b[0m\u001b[0;34m.\u001b[0m\u001b[0mappend\u001b[0m\u001b[0;34m(\u001b[0m\u001b[0mrows\u001b[0m\u001b[0;34m[\u001b[0m\u001b[0;34m:\u001b[0m\u001b[0;34m,\u001b[0m \u001b[0;34m:\u001b[0m\u001b[0;36m2\u001b[0m\u001b[0;34m]\u001b[0m\u001b[0;34m,\u001b[0m \u001b[0mnp\u001b[0m\u001b[0;34m.\u001b[0m\u001b[0marray\u001b[0m\u001b[0;34m(\u001b[0m\u001b[0mlist\u001b[0m\u001b[0;34m(\u001b[0m\u001b[0mmap\u001b[0m\u001b[0;34m(\u001b[0m\u001b[0mdict\u001b[0m\u001b[0;34m,\u001b[0m \u001b[0mrows\u001b[0m\u001b[0;34m[\u001b[0m\u001b[0;34m:\u001b[0m\u001b[0;34m,\u001b[0m \u001b[0;36m2\u001b[0m\u001b[0;34m]\u001b[0m\u001b[0;34m)\u001b[0m\u001b[0;34m)\u001b[0m\u001b[0;34m)\u001b[0m\u001b[0;34m.\u001b[0m\u001b[0mreshape\u001b[0m\u001b[0;34m(\u001b[0m\u001b[0mlen\u001b[0m\u001b[0;34m(\u001b[0m\u001b[0mrows\u001b[0m\u001b[0;34m)\u001b[0m\u001b[0;34m,\u001b[0m \u001b[0;36m1\u001b[0m\u001b[0;34m)\u001b[0m\u001b[0;34m,\u001b[0m \u001b[0;36m1\u001b[0m\u001b[0;34m)\u001b[0m\u001b[0;34m,\u001b[0m \u001b[0mcolumns\u001b[0m\u001b[0;34m=\u001b[0m\u001b[0mcolnames\u001b[0m\u001b[0;34m)\u001b[0m\u001b[0;34m\u001b[0m\u001b[0;34m\u001b[0m\u001b[0m\n\u001b[0m",
      "\u001b[0;31mIndexError\u001b[0m: too many indices for array"
     ]
    }
   ],
   "source": [
    "session.execute(\n",
    "    '''\n",
    "    select *\n",
    "    from presidents.game_clicks\n",
    "    '''\n",
    ")._current_rows"
   ]
  },
  {
   "cell_type": "code",
   "execution_count": 10,
   "metadata": {},
   "outputs": [
    {
     "name": "stderr",
     "output_type": "stream",
     "text": [
      "ERROR:cassandra.cluster:Error preparing query:\n",
      "Traceback (most recent call last):\n",
      "  File \"cassandra/cluster.py\", line 2463, in cassandra.cluster.Session.prepare\n",
      "  File \"cassandra/cluster.py\", line 4131, in cassandra.cluster.ResponseFuture.result\n",
      "cassandra.InvalidRequest: Error from server: code=2200 [Invalid query] message=\"Invalid list literal for timestamps: bind variables are not supported inside collection literals\"\n"
     ]
    },
    {
     "ename": "InvalidRequest",
     "evalue": "Error from server: code=2200 [Invalid query] message=\"Invalid list literal for timestamps: bind variables are not supported inside collection literals\"",
     "output_type": "error",
     "traceback": [
      "\u001b[0;31m---------------------------------------------------------------------------\u001b[0m",
      "\u001b[0;31mInvalidRequest\u001b[0m                            Traceback (most recent call last)",
      "\u001b[0;32m<ipython-input-10-3419d6743304>\u001b[0m in \u001b[0;36m<module>\u001b[0;34m\u001b[0m\n\u001b[1;32m      6\u001b[0m         \u001b[0;32mand\u001b[0m \u001b[0musername\u001b[0m\u001b[0;34m=\u001b[0m\u001b[0;31m?\u001b[0m\u001b[0;34m\u001b[0m\u001b[0;34m\u001b[0m\u001b[0m\n\u001b[1;32m      7\u001b[0m         \u001b[0;32mand\u001b[0m \u001b[0maction\u001b[0m\u001b[0;34m=\u001b[0m\u001b[0;31m?\u001b[0m\u001b[0;34m\u001b[0m\u001b[0;34m\u001b[0m\u001b[0m\n\u001b[0;32m----> 8\u001b[0;31m     '''\n\u001b[0m\u001b[1;32m      9\u001b[0m )\n",
      "\u001b[0;32m~/anaconda3/lib/python3.7/site-packages/cassandra/cluster.cpython-37m-x86_64-linux-gnu.so\u001b[0m in \u001b[0;36mcassandra.cluster.Session.prepare\u001b[0;34m()\u001b[0m\n",
      "\u001b[0;32m~/anaconda3/lib/python3.7/site-packages/cassandra/cluster.cpython-37m-x86_64-linux-gnu.so\u001b[0m in \u001b[0;36mcassandra.cluster.Session.prepare\u001b[0;34m()\u001b[0m\n",
      "\u001b[0;32m~/anaconda3/lib/python3.7/site-packages/cassandra/cluster.cpython-37m-x86_64-linux-gnu.so\u001b[0m in \u001b[0;36mcassandra.cluster.ResponseFuture.result\u001b[0;34m()\u001b[0m\n",
      "\u001b[0;31mInvalidRequest\u001b[0m: Error from server: code=2200 [Invalid query] message=\"Invalid list literal for timestamps: bind variables are not supported inside collection literals\""
     ]
    }
   ],
   "source": [
    "session.prepare(\n",
    "    '''\n",
    "    update presidents.game_clicks\n",
    "    set timestamps = timestamps + [?]\n",
    "    where game_id=?\n",
    "        and username=?\n",
    "        and action=?\n",
    "    '''\n",
    ")"
   ]
  },
  {
   "cell_type": "code",
   "execution_count": 8,
   "metadata": {},
   "outputs": [
    {
     "ename": "InvalidRequest",
     "evalue": "Error from server: code=2200 [Invalid query] message=\"unconfigured table game_click\"",
     "output_type": "error",
     "traceback": [
      "\u001b[0;31m---------------------------------------------------------------------------\u001b[0m",
      "\u001b[0;31mInvalidRequest\u001b[0m                            Traceback (most recent call last)",
      "\u001b[0;32m<ipython-input-8-5f0a0aabde6e>\u001b[0m in \u001b[0;36m<module>\u001b[0;34m\u001b[0m\n\u001b[1;32m      6\u001b[0m         \u001b[0;32mand\u001b[0m \u001b[0musername\u001b[0m\u001b[0;34m=\u001b[0m\u001b[0;31m?\u001b[0m\u001b[0;34m\u001b[0m\u001b[0;34m\u001b[0m\u001b[0m\n\u001b[1;32m      7\u001b[0m         \u001b[0;32mand\u001b[0m \u001b[0maction\u001b[0m\u001b[0;34m=\u001b[0m\u001b[0;31m?\u001b[0m\u001b[0;34m\u001b[0m\u001b[0;34m\u001b[0m\u001b[0m\n\u001b[0;32m----> 8\u001b[0;31m     '''\n\u001b[0m\u001b[1;32m      9\u001b[0m )\n",
      "\u001b[0;32m~/anaconda3/lib/python3.7/site-packages/cassandra/cluster.cpython-37m-x86_64-linux-gnu.so\u001b[0m in \u001b[0;36mcassandra.cluster.Session.execute\u001b[0;34m()\u001b[0m\n",
      "\u001b[0;32m~/anaconda3/lib/python3.7/site-packages/cassandra/cluster.cpython-37m-x86_64-linux-gnu.so\u001b[0m in \u001b[0;36mcassandra.cluster.ResponseFuture.result\u001b[0;34m()\u001b[0m\n",
      "\u001b[0;31mInvalidRequest\u001b[0m: Error from server: code=2200 [Invalid query] message=\"unconfigured table game_click\""
     ]
    }
   ],
   "source": [
    "session.execute(\n",
    "    '''\n",
    "    update presidents.game_click\n",
    "    set timestamps = timestamps + [?]\n",
    "    where game_id=?\n",
    "        and username=?\n",
    "        and action=?\n",
    "    '''\n",
    ")"
   ]
  },
  {
   "cell_type": "code",
   "execution_count": 291,
   "metadata": {},
   "outputs": [
    {
     "data": {
      "text/plain": [
       "<cassandra.cluster.ResultSet at 0x7f5b04474f60>"
      ]
     },
     "execution_count": 291,
     "metadata": {},
     "output_type": "execute_result"
    }
   ],
   "source": [
    "session.execute(\n",
    "    f'''\n",
    "    update presidents.click\n",
    "    set action_timestamps_dict['3'] = [1]\n",
    "    where game_id='1'\n",
    "        and username='avi'\n",
    "    '''\n",
    ")"
   ]
  },
  {
   "cell_type": "code",
   "execution_count": null,
   "metadata": {},
   "outputs": [],
   "source": []
  },
  {
   "cell_type": "code",
   "execution_count": 292,
   "metadata": {},
   "outputs": [
    {
     "data": {
      "text/html": [
       "<div>\n",
       "<style scoped>\n",
       "    .dataframe tbody tr th:only-of-type {\n",
       "        vertical-align: middle;\n",
       "    }\n",
       "\n",
       "    .dataframe tbody tr th {\n",
       "        vertical-align: top;\n",
       "    }\n",
       "\n",
       "    .dataframe thead th {\n",
       "        text-align: right;\n",
       "    }\n",
       "</style>\n",
       "<table border=\"1\" class=\"dataframe\">\n",
       "  <thead>\n",
       "    <tr style=\"text-align: right;\">\n",
       "      <th></th>\n",
       "      <th>game_id</th>\n",
       "      <th>username</th>\n",
       "      <th>action_timestamps_dict</th>\n",
       "    </tr>\n",
       "  </thead>\n",
       "  <tbody>\n",
       "    <tr>\n",
       "      <th>0</th>\n",
       "      <td>1</td>\n",
       "      <td>avi</td>\n",
       "      <td>{'1': [2019-05-27 00:40:06.066000], '3': [1970...</td>\n",
       "    </tr>\n",
       "    <tr>\n",
       "      <th>1</th>\n",
       "      <td>1</td>\n",
       "      <td>evilavi</td>\n",
       "      <td>{'2': [2019-05-27 00:40:06.067000]}</td>\n",
       "    </tr>\n",
       "  </tbody>\n",
       "</table>\n",
       "</div>"
      ],
      "text/plain": [
       "  game_id username                             action_timestamps_dict\n",
       "0       1      avi  {'1': [2019-05-27 00:40:06.066000], '3': [1970...\n",
       "1       1  evilavi                {'2': [2019-05-27 00:40:06.067000]}"
      ]
     },
     "execution_count": 292,
     "metadata": {},
     "output_type": "execute_result"
    }
   ],
   "source": [
    "session.execute(\n",
    "    '''\n",
    "    select *\n",
    "    from presidents.game_clicks\n",
    "    '''\n",
    ")._current_rows"
   ]
  },
  {
   "cell_type": "code",
   "execution_count": 56,
   "metadata": {},
   "outputs": [
    {
     "name": "stdout",
     "output_type": "stream",
     "text": [
      "{'1': [datetime.datetime(2019, 5, 26, 18, 8, 35, 934000)]}\n"
     ]
    }
   ],
   "source": [
    "for instance in Click.objects().all():\n",
    "    print(instance.action_timestamps_dict)"
   ]
  },
  {
   "cell_type": "code",
   "execution_count": 255,
   "metadata": {},
   "outputs": [],
   "source": [
    "from click_app import app, Click, print_click"
   ]
  },
  {
   "cell_type": "code",
   "execution_count": 261,
   "metadata": {},
   "outputs": [
    {
     "data": {
      "text/plain": [
       "<Future pending cb=[Topic._on_published(message=<FutureMessage pending>, state={}, producer=<Producer: running >)()]>"
      ]
     },
     "execution_count": 261,
     "metadata": {},
     "output_type": "execute_result"
    }
   ],
   "source": [
    "await app.send('click', value=Click(game_id='1', username='avi', action='play', timestamp=datetime.now()))"
   ]
  },
  {
   "cell_type": "code",
   "execution_count": 7,
   "metadata": {},
   "outputs": [
    {
     "data": {
      "text/plain": [
       "<coroutine object Agent.send at 0x7fd03449d7c8>"
      ]
     },
     "execution_count": 7,
     "metadata": {},
     "output_type": "execute_result"
    }
   ],
   "source": [
    "print_click.send("
   ]
  },
  {
   "cell_type": "code",
   "execution_count": 10,
   "metadata": {},
   "outputs": [],
   "source": [
    "async def click():\n",
    "    await print_click.send(\n",
    "        value=Click(game_id='1', username='avi', action='play', timestamp=datetime.datetime.now())\n",
    "    )"
   ]
  },
  {
   "cell_type": "code",
   "execution_count": 20,
   "metadata": {},
   "outputs": [
    {
     "data": {
      "text/plain": [
       "<coroutine object click at 0x7fd034263548>"
      ]
     },
     "execution_count": 20,
     "metadata": {},
     "output_type": "execute_result"
    }
   ],
   "source": [
    "click()"
   ]
  },
  {
   "cell_type": "code",
   "execution_count": 21,
   "metadata": {},
   "outputs": [],
   "source": [
    "@app.timer(interval=1.0)\n",
    "async def example_clicker(app):\n",
    "    await print_click.send(\n",
    "        value=Click(game_id='1', username='avi', action='play', timestamp=datetime.datetime.now())\n",
    "    )"
   ]
  },
  {
   "cell_type": "code",
   "execution_count": 22,
   "metadata": {},
   "outputs": [
    {
     "data": {
      "text/plain": [
       "<coroutine object example_clicker at 0x7fd034263648>"
      ]
     },
     "execution_count": 22,
     "metadata": {},
     "output_type": "execute_result"
    }
   ],
   "source": [
    "example_clicker()"
   ]
  },
  {
   "cell_type": "code",
   "execution_count": 19,
   "metadata": {},
   "outputs": [],
   "source": [
    "import faust\n",
    "import datetime\n",
    "\n",
    "class Click(faust.Record):\n",
    "    game_id: str\n",
    "    username: str\n",
    "    action: str\n",
    "    timestamp: datetime.datetime\n",
    "        \n",
    "app = faust.App('click-app', broker='kafka://localhost:9092')\n",
    "topic = app.topic('click', value_type=Click)\n",
    "\n",
    "@app.agent(topic)\n",
    "async def print_click(clicks):\n",
    "    async for click in clicks:\n",
    "        print(\n",
    "            f'''\n",
    "            game_id: {click.game_id}\n",
    "            username: {click.username}\n",
    "            action: {click.action}\n",
    "            timestamp: {click.timestamp}\n",
    "            '''\n",
    "        )"
   ]
  },
  {
   "cell_type": "code",
   "execution_count": 33,
   "metadata": {},
   "outputs": [],
   "source": [
    "import faust"
   ]
  },
  {
   "cell_type": "code",
   "execution_count": 17,
   "metadata": {},
   "outputs": [
    {
     "name": "stdout",
     "output_type": "stream",
     "text": [
      "229 ns ± 1.61 ns per loop (mean ± std. dev. of 7 runs, 1000000 loops each)\n"
     ]
    }
   ],
   "source": [
    "%timeit faust.utils.iso8601.parse('2019-05-27T21:15:27.890826')"
   ]
  },
  {
   "cell_type": "code",
   "execution_count": 16,
   "metadata": {},
   "outputs": [
    {
     "data": {
      "text/plain": [
       "'2019-05-27T21:28:38.226721'"
      ]
     },
     "execution_count": 16,
     "metadata": {},
     "output_type": "execute_result"
    }
   ],
   "source": [
    "datetime.datetime.now().isoformat()"
   ]
  },
  {
   "cell_type": "code",
   "execution_count": 40,
   "metadata": {},
   "outputs": [
    {
     "data": {
      "text/plain": [
       "datetime.datetime(2019, 5, 27, 21, 15, 27, 890800)"
      ]
     },
     "execution_count": 40,
     "metadata": {},
     "output_type": "execute_result"
    }
   ],
   "source": [
    "faust.utils.iso8601.parse('2019-05-27T21:15:27.8908')"
   ]
  },
  {
   "cell_type": "code",
   "execution_count": null,
   "metadata": {},
   "outputs": [],
   "source": []
  }
 ],
 "metadata": {
  "kernelspec": {
   "display_name": "Python 3",
   "language": "python",
   "name": "python3"
  },
  "language_info": {
   "codemirror_mode": {
    "name": "ipython",
    "version": 3
   },
   "file_extension": ".py",
   "mimetype": "text/x-python",
   "name": "python",
   "nbconvert_exporter": "python",
   "pygments_lexer": "ipython3",
   "version": "3.7.1"
  }
 },
 "nbformat": 4,
 "nbformat_minor": 2
}
